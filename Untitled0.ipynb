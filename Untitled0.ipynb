{
  "nbformat": 4,
  "nbformat_minor": 0,
  "metadata": {
    "colab": {
      "name": "Untitled0.ipynb",
      "provenance": []
    },
    "kernelspec": {
      "name": "python3",
      "display_name": "Python 3"
    },
    "language_info": {
      "name": "python"
    }
  },
  "cells": [
    {
      "cell_type": "code",
      "metadata": {
        "id": "OPxs2sXm4Qsr"
      },
      "source": [
        "import pandas as pd\n",
        "from IPython.display import Image\n",
        "import matplotlib.pyplot as plt \n",
        "\n"
      ],
      "execution_count": null,
      "outputs": []
    },
    {
      "cell_type": "code",
      "metadata": {
        "colab": {
          "base_uri": "https://localhost:8080/",
          "height": 203
        },
        "id": "JrPePWsc5Faq",
        "outputId": "6c56b0d2-921e-4c0e-8557-db171832bc71"
      },
      "source": [
        "df = pd.read_csv(\"/content/heart.csv\")\n",
        "df.head()"
      ],
      "execution_count": null,
      "outputs": [
        {
          "output_type": "execute_result",
          "data": {
            "text/html": [
              "<div>\n",
              "<style scoped>\n",
              "    .dataframe tbody tr th:only-of-type {\n",
              "        vertical-align: middle;\n",
              "    }\n",
              "\n",
              "    .dataframe tbody tr th {\n",
              "        vertical-align: top;\n",
              "    }\n",
              "\n",
              "    .dataframe thead th {\n",
              "        text-align: right;\n",
              "    }\n",
              "</style>\n",
              "<table border=\"1\" class=\"dataframe\">\n",
              "  <thead>\n",
              "    <tr style=\"text-align: right;\">\n",
              "      <th></th>\n",
              "      <th>age</th>\n",
              "      <th>sex</th>\n",
              "      <th>cp</th>\n",
              "      <th>trtbps</th>\n",
              "      <th>chol</th>\n",
              "      <th>fbs</th>\n",
              "      <th>restecg</th>\n",
              "      <th>thalachh</th>\n",
              "      <th>exng</th>\n",
              "      <th>oldpeak</th>\n",
              "      <th>slp</th>\n",
              "      <th>caa</th>\n",
              "      <th>thall</th>\n",
              "      <th>output</th>\n",
              "    </tr>\n",
              "  </thead>\n",
              "  <tbody>\n",
              "    <tr>\n",
              "      <th>0</th>\n",
              "      <td>63</td>\n",
              "      <td>1</td>\n",
              "      <td>3</td>\n",
              "      <td>145</td>\n",
              "      <td>233</td>\n",
              "      <td>1</td>\n",
              "      <td>0</td>\n",
              "      <td>150</td>\n",
              "      <td>0</td>\n",
              "      <td>2.3</td>\n",
              "      <td>0</td>\n",
              "      <td>0</td>\n",
              "      <td>1</td>\n",
              "      <td>1</td>\n",
              "    </tr>\n",
              "    <tr>\n",
              "      <th>1</th>\n",
              "      <td>37</td>\n",
              "      <td>1</td>\n",
              "      <td>2</td>\n",
              "      <td>130</td>\n",
              "      <td>250</td>\n",
              "      <td>0</td>\n",
              "      <td>1</td>\n",
              "      <td>187</td>\n",
              "      <td>0</td>\n",
              "      <td>3.5</td>\n",
              "      <td>0</td>\n",
              "      <td>0</td>\n",
              "      <td>2</td>\n",
              "      <td>1</td>\n",
              "    </tr>\n",
              "    <tr>\n",
              "      <th>2</th>\n",
              "      <td>41</td>\n",
              "      <td>0</td>\n",
              "      <td>1</td>\n",
              "      <td>130</td>\n",
              "      <td>204</td>\n",
              "      <td>0</td>\n",
              "      <td>0</td>\n",
              "      <td>172</td>\n",
              "      <td>0</td>\n",
              "      <td>1.4</td>\n",
              "      <td>2</td>\n",
              "      <td>0</td>\n",
              "      <td>2</td>\n",
              "      <td>1</td>\n",
              "    </tr>\n",
              "    <tr>\n",
              "      <th>3</th>\n",
              "      <td>56</td>\n",
              "      <td>1</td>\n",
              "      <td>1</td>\n",
              "      <td>120</td>\n",
              "      <td>236</td>\n",
              "      <td>0</td>\n",
              "      <td>1</td>\n",
              "      <td>178</td>\n",
              "      <td>0</td>\n",
              "      <td>0.8</td>\n",
              "      <td>2</td>\n",
              "      <td>0</td>\n",
              "      <td>2</td>\n",
              "      <td>1</td>\n",
              "    </tr>\n",
              "    <tr>\n",
              "      <th>4</th>\n",
              "      <td>57</td>\n",
              "      <td>0</td>\n",
              "      <td>0</td>\n",
              "      <td>120</td>\n",
              "      <td>354</td>\n",
              "      <td>0</td>\n",
              "      <td>1</td>\n",
              "      <td>163</td>\n",
              "      <td>1</td>\n",
              "      <td>0.6</td>\n",
              "      <td>2</td>\n",
              "      <td>0</td>\n",
              "      <td>2</td>\n",
              "      <td>1</td>\n",
              "    </tr>\n",
              "  </tbody>\n",
              "</table>\n",
              "</div>"
            ],
            "text/plain": [
              "   age  sex  cp  trtbps  chol  fbs  ...  exng  oldpeak  slp  caa  thall  output\n",
              "0   63    1   3     145   233    1  ...     0      2.3    0    0      1       1\n",
              "1   37    1   2     130   250    0  ...     0      3.5    0    0      2       1\n",
              "2   41    0   1     130   204    0  ...     0      1.4    2    0      2       1\n",
              "3   56    1   1     120   236    0  ...     0      0.8    2    0      2       1\n",
              "4   57    0   0     120   354    0  ...     1      0.6    2    0      2       1\n",
              "\n",
              "[5 rows x 14 columns]"
            ]
          },
          "metadata": {},
          "execution_count": 6
        }
      ]
    },
    {
      "cell_type": "code",
      "metadata": {
        "colab": {
          "base_uri": "https://localhost:8080/",
          "height": 315
        },
        "id": "xZ7-UyMu-bDg",
        "outputId": "f11a91a9-427c-4935-e888-ca8f74d28eed"
      },
      "source": [
        "plt.hist(df[\"age\"])"
      ],
      "execution_count": null,
      "outputs": [
        {
          "output_type": "execute_result",
          "data": {
            "text/plain": [
              "(array([ 1., 11., 33., 38., 37., 60., 63., 43., 14.,  3.]),\n",
              " array([29. , 33.8, 38.6, 43.4, 48.2, 53. , 57.8, 62.6, 67.4, 72.2, 77. ]),\n",
              " <a list of 10 Patch objects>)"
            ]
          },
          "metadata": {},
          "execution_count": 7
        },
        {
          "output_type": "display_data",
          "data": {
            "image/png": "[encoded data removed]",
            "text/plain": [
              "<Figure size 432x288 with 1 Axes>"
            ]
          },
          "metadata": {
            "needs_background": "light"
          }
        }
      ]
    },
    {
      "cell_type": "code",
      "metadata": {
        "id": "gSTFzlXL-kuM"
      },
      "source": [
        "def age_group(x):\n",
        "    if x < 38:\n",
        "        return 0\n",
        "    if x < 52:\n",
        "        return 1\n",
        "    if x < 67:\n",
        "        return 2\n",
        "    return 3"
      ],
      "execution_count": null,
      "outputs": []
    },
    {
      "cell_type": "code",
      "metadata": {
        "colab": {
          "base_uri": "https://localhost:8080/",
          "height": 417
        },
        "id": "fc6DuWrs-o0f",
        "outputId": "2eb56237-3098-4745-df32-d1fc33515ade"
      },
      "source": [
        "df[\"age\"] = df[\"age\"].apply(lambda x : age_group(x))\n",
        "df"
      ],
      "execution_count": null,
      "outputs": [
        {
          "output_type": "execute_result",
          "data": {
            "text/html": [
              "<div>\n",
              "<style scoped>\n",
              "    .dataframe tbody tr th:only-of-type {\n",
              "        vertical-align: middle;\n",
              "    }\n",
              "\n",
              "    .dataframe tbody tr th {\n",
              "        vertical-align: top;\n",
              "    }\n",
              "\n",
              "    .dataframe thead th {\n",
              "        text-align: right;\n",
              "    }\n",
              "</style>\n",
              "<table border=\"1\" class=\"dataframe\">\n",
              "  <thead>\n",
              "    <tr style=\"text-align: right;\">\n",
              "      <th></th>\n",
              "      <th>age</th>\n",
              "      <th>sex</th>\n",
              "      <th>cp</th>\n",
              "      <th>trtbps</th>\n",
              "      <th>chol</th>\n",
              "      <th>fbs</th>\n",
              "      <th>restecg</th>\n",
              "      <th>thalachh</th>\n",
              "      <th>exng</th>\n",
              "      <th>oldpeak</th>\n",
              "      <th>slp</th>\n",
              "      <th>caa</th>\n",
              "      <th>thall</th>\n",
              "      <th>output</th>\n",
              "    </tr>\n",
              "  </thead>\n",
              "  <tbody>\n",
              "    <tr>\n",
              "      <th>0</th>\n",
              "      <td>2</td>\n",
              "      <td>1</td>\n",
              "      <td>3</td>\n",
              "      <td>145</td>\n",
              "      <td>233</td>\n",
              "      <td>1</td>\n",
              "      <td>0</td>\n",
              "      <td>150</td>\n",
              "      <td>0</td>\n",
              "      <td>2.3</td>\n",
              "      <td>0</td>\n",
              "      <td>0</td>\n",
              "      <td>1</td>\n",
              "      <td>1</td>\n",
              "    </tr>\n",
              "    <tr>\n",
              "      <th>1</th>\n",
              "      <td>0</td>\n",
              "      <td>1</td>\n",
              "      <td>2</td>\n",
              "      <td>130</td>\n",
              "      <td>250</td>\n",
              "      <td>0</td>\n",
              "      <td>1</td>\n",
              "      <td>187</td>\n",
              "      <td>0</td>\n",
              "      <td>3.5</td>\n",
              "      <td>0</td>\n",
              "      <td>0</td>\n",
              "      <td>2</td>\n",
              "      <td>1</td>\n",
              "    </tr>\n",
              "    <tr>\n",
              "      <th>2</th>\n",
              "      <td>1</td>\n",
              "      <td>0</td>\n",
              "      <td>1</td>\n",
              "      <td>130</td>\n",
              "      <td>204</td>\n",
              "      <td>0</td>\n",
              "      <td>0</td>\n",
              "      <td>172</td>\n",
              "      <td>0</td>\n",
              "      <td>1.4</td>\n",
              "      <td>2</td>\n",
              "      <td>0</td>\n",
              "      <td>2</td>\n",
              "      <td>1</td>\n",
              "    </tr>\n",
              "    <tr>\n",
              "      <th>3</th>\n",
              "      <td>2</td>\n",
              "      <td>1</td>\n",
              "      <td>1</td>\n",
              "      <td>120</td>\n",
              "      <td>236</td>\n",
              "      <td>0</td>\n",
              "      <td>1</td>\n",
              "      <td>178</td>\n",
              "      <td>0</td>\n",
              "      <td>0.8</td>\n",
              "      <td>2</td>\n",
              "      <td>0</td>\n",
              "      <td>2</td>\n",
              "      <td>1</td>\n",
              "    </tr>\n",
              "    <tr>\n",
              "      <th>4</th>\n",
              "      <td>2</td>\n",
              "      <td>0</td>\n",
              "      <td>0</td>\n",
              "      <td>120</td>\n",
              "      <td>354</td>\n",
              "      <td>0</td>\n",
              "      <td>1</td>\n",
              "      <td>163</td>\n",
              "      <td>1</td>\n",
              "      <td>0.6</td>\n",
              "      <td>2</td>\n",
              "      <td>0</td>\n",
              "      <td>2</td>\n",
              "      <td>1</td>\n",
              "    </tr>\n",
              "    <tr>\n",
              "      <th>...</th>\n",
              "      <td>...</td>\n",
              "      <td>...</td>\n",
              "      <td>...</td>\n",
              "      <td>...</td>\n",
              "      <td>...</td>\n",
              "      <td>...</td>\n",
              "      <td>...</td>\n",
              "      <td>...</td>\n",
              "      <td>...</td>\n",
              "      <td>...</td>\n",
              "      <td>...</td>\n",
              "      <td>...</td>\n",
              "      <td>...</td>\n",
              "      <td>...</td>\n",
              "    </tr>\n",
              "    <tr>\n",
              "      <th>298</th>\n",
              "      <td>2</td>\n",
              "      <td>0</td>\n",
              "      <td>0</td>\n",
              "      <td>140</td>\n",
              "      <td>241</td>\n",
              "      <td>0</td>\n",
              "      <td>1</td>\n",
              "      <td>123</td>\n",
              "      <td>1</td>\n",
              "      <td>0.2</td>\n",
              "      <td>1</td>\n",
              "      <td>0</td>\n",
              "      <td>3</td>\n",
              "      <td>0</td>\n",
              "    </tr>\n",
              "    <tr>\n",
              "      <th>299</th>\n",
              "      <td>1</td>\n",
              "      <td>1</td>\n",
              "      <td>3</td>\n",
              "      <td>110</td>\n",
              "      <td>264</td>\n",
              "      <td>0</td>\n",
              "      <td>1</td>\n",
              "      <td>132</td>\n",
              "      <td>0</td>\n",
              "      <td>1.2</td>\n",
              "      <td>1</td>\n",
              "      <td>0</td>\n",
              "      <td>3</td>\n",
              "      <td>0</td>\n",
              "    </tr>\n",
              "    <tr>\n",
              "      <th>300</th>\n",
              "      <td>3</td>\n",
              "      <td>1</td>\n",
              "      <td>0</td>\n",
              "      <td>144</td>\n",
              "      <td>193</td>\n",
              "      <td>1</td>\n",
              "      <td>1</td>\n",
              "      <td>141</td>\n",
              "      <td>0</td>\n",
              "      <td>3.4</td>\n",
              "      <td>1</td>\n",
              "      <td>2</td>\n",
              "      <td>3</td>\n",
              "      <td>0</td>\n",
              "    </tr>\n",
              "    <tr>\n",
              "      <th>301</th>\n",
              "      <td>2</td>\n",
              "      <td>1</td>\n",
              "      <td>0</td>\n",
              "      <td>130</td>\n",
              "      <td>131</td>\n",
              "      <td>0</td>\n",
              "      <td>1</td>\n",
              "      <td>115</td>\n",
              "      <td>1</td>\n",
              "      <td>1.2</td>\n",
              "      <td>1</td>\n",
              "      <td>1</td>\n",
              "      <td>3</td>\n",
              "      <td>0</td>\n",
              "    </tr>\n",
              "    <tr>\n",
              "      <th>302</th>\n",
              "      <td>2</td>\n",
              "      <td>0</td>\n",
              "      <td>1</td>\n",
              "      <td>130</td>\n",
              "      <td>236</td>\n",
              "      <td>0</td>\n",
              "      <td>0</td>\n",
              "      <td>174</td>\n",
              "      <td>0</td>\n",
              "      <td>0.0</td>\n",
              "      <td>1</td>\n",
              "      <td>1</td>\n",
              "      <td>2</td>\n",
              "      <td>0</td>\n",
              "    </tr>\n",
              "  </tbody>\n",
              "</table>\n",
              "<p>303 rows × 14 columns</p>\n",
              "</div>"
            ],
            "text/plain": [
              "     age  sex  cp  trtbps  chol  fbs  ...  exng  oldpeak  slp  caa  thall  output\n",
              "0      2    1   3     145   233    1  ...     0      2.3    0    0      1       1\n",
              "1      0    1   2     130   250    0  ...     0      3.5    0    0      2       1\n",
              "2      1    0   1     130   204    0  ...     0      1.4    2    0      2       1\n",
              "3      2    1   1     120   236    0  ...     0      0.8    2    0      2       1\n",
              "4      2    0   0     120   354    0  ...     1      0.6    2    0      2       1\n",
              "..   ...  ...  ..     ...   ...  ...  ...   ...      ...  ...  ...    ...     ...\n",
              "298    2    0   0     140   241    0  ...     1      0.2    1    0      3       0\n",
              "299    1    1   3     110   264    0  ...     0      1.2    1    0      3       0\n",
              "300    3    1   0     144   193    1  ...     0      3.4    1    2      3       0\n",
              "301    2    1   0     130   131    0  ...     1      1.2    1    1      3       0\n",
              "302    2    0   1     130   236    0  ...     0      0.0    1    1      2       0\n",
              "\n",
              "[303 rows x 14 columns]"
            ]
          },
          "metadata": {},
          "execution_count": 9
        }
      ]
    },
    {
      "cell_type": "code",
      "metadata": {
        "id": "6LQlq05u-wmK"
      },
      "source": [
        "from sklearn.preprocessing import OneHotEncoder\n",
        "from sklearn.compose import ColumnTransformer"
      ],
      "execution_count": null,
      "outputs": []
    },
    {
      "cell_type": "code",
      "metadata": {
        "id": "sWAxsapng33r"
      },
      "source": [
        "categoricals = [\"age\", \"cp\", \"slp\", \"caa\", \"thall\"]"
      ],
      "execution_count": null,
      "outputs": []
    },
    {
      "cell_type": "code",
      "metadata": {
        "colab": {
          "base_uri": "https://localhost:8080/"
        },
        "id": "ZSBJaLEYhTTN",
        "outputId": "e9591a1c-4c0f-4842-d88c-63c482fb8ac3"
      },
      "source": [
        "df[\"age\"].unique()"
      ],
      "execution_count": null,
      "outputs": [
        {
          "output_type": "execute_result",
          "data": {
            "text/plain": [
              "array([63, 37, 41, 56, 57, 44, 52, 54, 48, 49, 64, 58, 50, 66, 43, 69, 59,\n",
              "       42, 61, 40, 71, 51, 65, 53, 46, 45, 39, 47, 62, 34, 35, 29, 55, 60,\n",
              "       67, 68, 74, 76, 70, 38, 77])"
            ]
          },
          "metadata": {},
          "execution_count": 4
        }
      ]
    },
    {
      "cell_type": "code",
      "metadata": {
        "colab": {
          "base_uri": "https://localhost:8080/"
        },
        "id": "-Re2enJvhWQi",
        "outputId": "601c2196-9a98-44a3-b893-0d9d2ad8d98b"
      },
      "source": [
        "df[\"cp\"].unique()"
      ],
      "execution_count": null,
      "outputs": [
        {
          "output_type": "execute_result",
          "data": {
            "text/plain": [
              "array([3, 2, 1, 0])"
            ]
          },
          "metadata": {},
          "execution_count": 5
        }
      ]
    },
    {
      "cell_type": "code",
      "metadata": {
        "id": "VzwdmhFQhaWg"
      },
      "source": [
        "dummys = [0]\n",
        "for i in categoricals:\n",
        "    dummys.append(dummys[-1] + len(df[i].unique()))"
      ],
      "execution_count": null,
      "outputs": []
    },
    {
      "cell_type": "code",
      "metadata": {
        "colab": {
          "base_uri": "https://localhost:8080/"
        },
        "id": "HcJc9NYEhdh_",
        "outputId": "b6e7ec74-4106-4743-c0a4-42fc9ea705e0"
      },
      "source": [
        "dummys"
      ],
      "execution_count": null,
      "outputs": [
        {
          "output_type": "execute_result",
          "data": {
            "text/plain": [
              "[0, 41, 45, 48, 53, 57]"
            ]
          },
          "metadata": {},
          "execution_count": 7
        }
      ]
    },
    {
      "cell_type": "code",
      "metadata": {
        "id": "pbSOgR6IhlDI"
      },
      "source": [
        "from sklearn.preprocessing import StandardScaler"
      ],
      "execution_count": 25,
      "outputs": []
    },
    {
      "cell_type": "code",
      "metadata": {
        "id": "6OLVOXAdipZv"
      },
      "source": [
        "sc = StandardScaler()"
      ],
      "execution_count": 26,
      "outputs": []
    },
    {
      "cell_type": "code",
      "metadata": {
        "id": "fLolYPq0iqwy"
      },
      "source": [
        "from sklearn.model_selection import train_test_split"
      ],
      "execution_count": 27,
      "outputs": []
    },
    {
      "cell_type": "code",
      "metadata": {
        "id": "WYdBBhmniuWv"
      },
      "source": [
        "X_train, X_test, y_train, y_test = train_test_split(df.iloc[ : , :-1], df.iloc[: , -1:], test_size = 0.2)"
      ],
      "execution_count": 28,
      "outputs": []
    },
    {
      "cell_type": "code",
      "metadata": {
        "id": "D7wOzN6Vi1uf"
      },
      "source": [
        "from sklearn.linear_model import LogisticRegression\n",
        "\n"
      ],
      "execution_count": 29,
      "outputs": []
    },
    {
      "cell_type": "code",
      "metadata": {
        "colab": {
          "base_uri": "https://localhost:8080/"
        },
        "id": "_iXwF_qAs7GL",
        "outputId": "e32fde0d-94bd-43a2-a959-185b911c4231"
      },
      "source": [
        "reg = LogisticRegression()\n",
        "from sklearn.metrics import accuracy_score\n",
        "reg.fit(X_train, y_train)"
      ],
      "execution_count": 31,
      "outputs": [
        {
          "output_type": "stream",
          "name": "stderr",
          "text": [
            "/usr/local/lib/python3.7/dist-packages/sklearn/utils/validation.py:760: DataConversionWarning: A column-vector y was passed when a 1d array was expected. Please change the shape of y to (n_samples, ), for example using ravel().\n",
            "  y = column_or_1d(y, warn=True)\n",
            "/usr/local/lib/python3.7/dist-packages/sklearn/linear_model/_logistic.py:940: ConvergenceWarning: lbfgs failed to converge (status=1):\n",
            "STOP: TOTAL NO. of ITERATIONS REACHED LIMIT.\n",
            "\n",
            "Increase the number of iterations (max_iter) or scale the data as shown in:\n",
            "    https://scikit-learn.org/stable/modules/preprocessing.html\n",
            "Please also refer to the documentation for alternative solver options:\n",
            "    https://scikit-learn.org/stable/modules/linear_model.html#logistic-regression\n",
            "  extra_warning_msg=_LOGISTIC_SOLVER_CONVERGENCE_MSG)\n"
          ]
        },
        {
          "output_type": "execute_result",
          "data": {
            "text/plain": [
              "LogisticRegression(C=1.0, class_weight=None, dual=False, fit_intercept=True,\n",
              "                   intercept_scaling=1, l1_ratio=None, max_iter=100,\n",
              "                   multi_class='auto', n_jobs=None, penalty='l2',\n",
              "                   random_state=None, solver='lbfgs', tol=0.0001, verbose=0,\n",
              "                   warm_start=False)"
            ]
          },
          "metadata": {},
          "execution_count": 31
        }
      ]
    },
    {
      "cell_type": "code",
      "metadata": {
        "colab": {
          "base_uri": "https://localhost:8080/"
        },
        "id": "Z1JmvsZ0t0LD",
        "outputId": "6a34d7cb-f408-4fc5-826e-79c898e1fbf3"
      },
      "source": [
        "accuracy_score(y_test, reg.predict(X_test))"
      ],
      "execution_count": null,
      "outputs": [
        {
          "output_type": "execute_result",
          "data": {
            "text/plain": [
              "0.8032786885245902"
            ]
          },
          "metadata": {},
          "execution_count": 27
        }
      ]
    },
    {
      "cell_type": "code",
      "metadata": {
        "id": "VA5B-rSMt5IC"
      },
      "source": [
        "from sympy import *\n"
      ],
      "execution_count": 32,
      "outputs": []
    },
    {
      "cell_type": "code",
      "metadata": {
        "id": "8lCAYl7Zt87J"
      },
      "source": [
        "from sklearn.decomposition import PCA\n",
        "pca = PCA(n_components=5)"
      ],
      "execution_count": null,
      "outputs": []
    },
    {
      "cell_type": "code",
      "metadata": {
        "id": "GKGmKFiruKFD"
      },
      "source": [
        "X_train = pca.fit_transform(X_train)\n",
        "X_test = pca.transform(X_test)"
      ],
      "execution_count": 33,
      "outputs": []
    },
    {
      "cell_type": "code",
      "metadata": {
        "colab": {
          "base_uri": "https://localhost:8080/"
        },
        "id": "6ZpVLLTiuNTY",
        "outputId": "8ad9b47b-f54d-459e-e5c5-24e811f9e2da"
      },
      "source": [
        "X_train[0:1]"
      ],
      "execution_count": 34,
      "outputs": [
        {
          "output_type": "execute_result",
          "data": {
            "text/plain": [
              "array([[ 29.16616599, -16.13601179,  -8.47100497,  -3.29314368,\n",
              "          0.22563005]])"
            ]
          },
          "metadata": {},
          "execution_count": 34
        }
      ]
    },
    {
      "cell_type": "code",
      "metadata": {
        "id": "6YL2ojk8u9bx"
      },
      "source": [
        "p_num = 5"
      ],
      "execution_count": 42,
      "outputs": []
    },
    {
      "cell_type": "code",
      "metadata": {
        "id": "M8JCwdJKvBQQ"
      },
      "source": [
        "theta_symbols = []\n",
        "x_symbols = []\n",
        "y = Symbol(\"y\")\n",
        "for i in range(p_num + 1):\n",
        "    theta = \"t\" + str(i)\n",
        "    x = \"x\" + str(i)\n",
        "    theta_symbols.append(Symbol(theta))\n",
        "    x_symbols.append(Symbol(x))"
      ],
      "execution_count": 43,
      "outputs": []
    },
    {
      "cell_type": "code",
      "metadata": {
        "id": "74ILHBcAvFtu"
      },
      "source": [
        "h_function = theta_symbols[0]\n",
        "for i in range(1,p_num + 1):\n",
        "    h_function += theta_symbols[i] * x_symbols[i]"
      ],
      "execution_count": 44,
      "outputs": []
    },
    {
      "cell_type": "code",
      "metadata": {
        "colab": {
          "base_uri": "https://localhost:8080/",
          "height": 38
        },
        "id": "Y2V5QYfovI5x",
        "outputId": "82adf688-bba2-4d9a-9dab-9df503b1a763"
      },
      "source": [
        "\n",
        "h_function"
      ],
      "execution_count": 45,
      "outputs": [
        {
          "output_type": "execute_result",
          "data": {
            "text/latex": "$\\displaystyle t_{0} + t_{1} x_{1} + t_{2} x_{2} + t_{3} x_{3} + t_{4} x_{4} + t_{5} x_{5}$",
            "text/plain": [
              "t0 + t1*x1 + t2*x2 + t3*x3 + t4*x4 + t5*x5"
            ]
          },
          "metadata": {},
          "execution_count": 45
        }
      ]
    },
    {
      "cell_type": "code",
      "metadata": {
        "id": "DtbYrMWFvPRI"
      },
      "source": [
        "cost_function = (h_function - y)**2"
      ],
      "execution_count": 46,
      "outputs": []
    },
    {
      "cell_type": "code",
      "metadata": {
        "id": "9AckT_-kvXwJ"
      },
      "source": [
        "learning_rate = 0.1\n",
        "m = 242 # X_train has 242 rows"
      ],
      "execution_count": null,
      "outputs": []
    },
    {
      "cell_type": "code",
      "metadata": {
        "colab": {
          "base_uri": "https://localhost:8080/"
        },
        "id": "wWJnF0uEvcm3",
        "outputId": "99f7252c-021d-4133-df28-03fb815678b0"
      },
      "source": [
        "X_test"
      ],
      "execution_count": 47,
      "outputs": [
        {
          "output_type": "execute_result",
          "data": {
            "text/plain": [
              "array([[ 8.36041355e+01,  3.59809955e+01,  4.21599648e+01,\n",
              "        -1.57755945e+01,  6.47442711e-01],\n",
              "       [ 4.51062419e+01, -5.32849034e+00,  3.74443087e+01,\n",
              "        -1.72697808e+00, -1.60809512e+00],\n",
              "       [-4.38923958e+01, -1.01507377e+01,  4.23527248e+01,\n",
              "        -5.50566432e+00, -1.13975312e+00],\n",
              "       [-4.85193100e+01, -1.32730721e+01, -1.24266585e-01,\n",
              "        -2.15073021e-01, -1.26242290e+00],\n",
              "       [-3.86289979e+01,  1.92180341e+01, -1.50383933e-01,\n",
              "         3.66658835e+00,  1.77843347e+00],\n",
              "       [-2.28127490e+01, -1.19509360e+01,  1.10662623e+01,\n",
              "         6.11048761e+00, -1.11529946e+00],\n",
              "       [-4.76674737e+01,  1.54638125e+01, -4.99264346e+00,\n",
              "         8.47467506e+00, -1.17450250e+00],\n",
              "       [-4.15777858e+01,  5.22047634e+00, -1.90473110e+01,\n",
              "        -4.10314355e+00, -8.37825164e-01],\n",
              "       [ 4.69598771e-01, -9.56159211e-01,  1.97154050e+01,\n",
              "         4.93377641e+00,  6.46823860e-02],\n",
              "       [-3.15481004e+01, -4.73638118e+00,  2.08471050e+01,\n",
              "         3.57073860e+00, -4.79594122e-01],\n",
              "       [ 8.27513920e+01,  1.37318383e+01,  3.45401558e+01,\n",
              "        -6.24789207e+00,  1.66145472e+00],\n",
              "       [ 6.49779896e-01, -2.98843358e+01, -3.62295187e-01,\n",
              "        -9.15026072e-01, -2.19350954e-01],\n",
              "       [ 3.43836241e+01,  1.79234857e+00,  1.47981506e+01,\n",
              "         8.08402657e+00, -1.31727353e+00],\n",
              "       [ 1.49935456e+02, -3.15882650e+00,  3.67593932e+00,\n",
              "         2.34662206e+00, -8.38687780e-02],\n",
              "       [-3.42477592e+00, -6.91047924e-01, -1.47731442e+01,\n",
              "        -8.11313995e+00, -5.39785111e-01],\n",
              "       [ 6.58924544e+01,  2.96449116e+01,  2.28444170e+00,\n",
              "        -1.69430755e+01,  1.13357980e+00],\n",
              "       [-4.69433075e+01,  3.81060518e+01,  1.13779734e+01,\n",
              "         1.50290811e+01, -1.75750814e+00],\n",
              "       [ 3.92634133e+01, -8.49647174e+00, -1.17236241e+01,\n",
              "         5.70002520e+00,  5.27479929e-01],\n",
              "       [ 2.54091009e+01,  4.23531786e+01,  2.68643072e+01,\n",
              "         3.01507287e+00,  2.60057225e-01],\n",
              "       [-1.11683662e+01, -1.25127741e+01,  9.15140088e+00,\n",
              "        -3.14150345e+00, -4.59041207e-02],\n",
              "       [ 1.61034387e+01,  9.92791748e+00, -8.27570675e+00,\n",
              "         1.50968909e+00, -1.12109082e+00],\n",
              "       [ 2.88482291e+01,  3.02782370e+01, -2.57341637e+01,\n",
              "        -1.03485644e+01,  1.12403417e-01],\n",
              "       [-6.67772763e+01, -1.03014908e+01,  1.28052768e+01,\n",
              "         7.18066998e+00, -2.22916539e-01],\n",
              "       [-1.89516239e+01, -5.41310753e+00, -3.63847131e+01,\n",
              "         3.90462073e+00, -4.43378243e-01],\n",
              "       [ 2.65065189e+01, -1.16711487e+01,  1.38211423e+00,\n",
              "        -4.54076855e+00, -9.02617493e-01],\n",
              "       [-4.77071228e+01,  1.97051825e+01, -1.72452554e-01,\n",
              "         1.78904671e+00, -8.77000736e-01],\n",
              "       [-4.21276583e+01,  1.58410943e+01,  2.00390069e+00,\n",
              "        -1.55352552e+01, -1.49340590e+00],\n",
              "       [ 2.14580629e+01,  5.20405408e+01, -1.45716064e+01,\n",
              "        -4.36041187e-01,  6.35283263e-01],\n",
              "       [-3.45146812e+01, -1.32124514e+01, -2.06855419e+01,\n",
              "        -4.75278142e+00, -2.79870166e-01],\n",
              "       [ 2.81906672e+01, -1.27094890e+00, -7.47777090e+00,\n",
              "        -7.34041554e-03, -2.39807805e-01],\n",
              "       [ 1.71994156e+01, -3.46907132e+01,  9.66039867e+00,\n",
              "         9.07738525e-01, -2.45834958e-01],\n",
              "       [ 3.66049233e+01, -8.55947095e+00, -9.49228238e+00,\n",
              "        -1.82260888e+01, -3.30818263e-01],\n",
              "       [-7.63273722e+01,  3.81254450e+00, -1.00242774e+01,\n",
              "        -7.04910266e+00,  1.66331932e+00],\n",
              "       [ 1.32554475e+01,  1.05763175e+01, -6.67803641e+00,\n",
              "         4.36920528e+00,  1.85246216e+00],\n",
              "       [-1.90310309e+01,  3.87409121e+01,  1.82541662e+01,\n",
              "         1.59002338e+00,  3.20544201e-01],\n",
              "       [-4.82003188e+01, -2.88387976e+01, -1.88333063e+01,\n",
              "        -5.29481542e-01,  3.32111133e-01],\n",
              "       [-3.11778522e+01, -8.22887416e+00, -1.93304245e+01,\n",
              "         5.30597189e+00,  1.41366674e-01],\n",
              "       [ 8.95186457e+01,  8.05087399e+00, -2.50544055e+01,\n",
              "         1.80159123e+00,  2.19248480e+00],\n",
              "       [ 4.56907035e+01,  2.10066421e+01,  6.48052134e+01,\n",
              "        -1.39711813e+01,  2.60198535e+00],\n",
              "       [-6.13969752e+01, -3.43572015e+01,  8.33979182e+00,\n",
              "        -1.25166482e+01,  8.94152486e-01],\n",
              "       [ 1.77941976e+01,  5.43234290e+01, -4.68652698e+00,\n",
              "        -2.29158059e+00, -1.15618370e+00],\n",
              "       [-5.88718015e+01, -3.16892695e+00,  1.21772351e+01,\n",
              "         6.65933494e+00,  9.05942262e-01],\n",
              "       [ 7.46768051e+01,  2.55997875e-01,  1.99353521e+00,\n",
              "         6.81923146e-01, -6.15457217e-01],\n",
              "       [ 4.52991819e+01,  2.85620524e+01,  2.97867347e+01,\n",
              "        -8.88629470e+00,  5.65268484e-01],\n",
              "       [ 4.04909568e+01,  3.41366665e+01, -1.34348216e+01,\n",
              "        -6.16841781e+00,  2.02321692e+00],\n",
              "       [ 3.18998233e+02, -4.91287060e+00, -2.72229453e+01,\n",
              "         6.40349059e+00, -2.54383527e-02],\n",
              "       [-4.87986583e+01, -8.24007505e+00, -2.88361473e+01,\n",
              "        -8.03868427e-01, -6.37755736e-01],\n",
              "       [-1.80095466e+01,  3.88933076e+01,  1.83780533e+01,\n",
              "         2.43984141e+00, -6.14460473e-01],\n",
              "       [-2.67135865e+01,  7.09181127e+00, -1.51715208e+01,\n",
              "        -1.38376178e+01,  4.35107672e-01],\n",
              "       [ 2.56010578e+01,  4.07233314e+01,  1.50540012e+01,\n",
              "        -7.23863125e+00, -1.22907585e+00],\n",
              "       [ 8.64325930e+00, -9.63810002e+00, -2.15978936e+01,\n",
              "         3.38592210e-01, -6.93882282e-01],\n",
              "       [-4.69401747e+01, -3.23894931e+01, -3.52942970e+01,\n",
              "        -2.52838582e+00, -5.11393251e-01],\n",
              "       [-6.32975090e+01, -2.75629025e+01, -1.20114807e+01,\n",
              "        -1.16010211e+01, -9.48483691e-01],\n",
              "       [ 9.76096910e+01, -1.40261001e+01, -2.42707092e+00,\n",
              "         6.07518372e-02, -2.14655410e-01],\n",
              "       [-3.40425370e+01,  7.32292914e+00, -1.86420133e+01,\n",
              "         1.26634005e+01, -2.64114407e-01],\n",
              "       [-1.13851742e+01, -1.16604478e+01,  2.40970389e+01,\n",
              "         1.59209277e+00, -8.44279737e-01],\n",
              "       [-2.39042138e+01,  5.61076172e+00, -3.10060676e+01,\n",
              "         1.14468135e+00, -1.87820182e-01],\n",
              "       [ 5.09736683e-01,  5.51977030e+01, -1.35771036e+01,\n",
              "         1.61527321e+00,  4.71298628e-01],\n",
              "       [ 1.16725392e+02,  3.78516796e+00,  2.48756129e+01,\n",
              "         2.05556207e+00, -1.53877850e+00],\n",
              "       [ 3.61608111e+01,  5.45640411e+01, -1.38834880e+01,\n",
              "        -1.08246044e+01,  8.16734641e-01],\n",
              "       [ 3.47488427e-01, -1.57688859e+01, -5.76307660e+00,\n",
              "         3.77848535e-01,  9.14582121e-01]])"
            ]
          },
          "metadata": {},
          "execution_count": 47
        }
      ]
    },
    {
      "cell_type": "code",
      "metadata": {
        "id": "8I3VvKYhviXX"
      },
      "source": [
        "vals = [0.01] * (p_num+1)"
      ],
      "execution_count": null,
      "outputs": []
    },
    {
      "cell_type": "code",
      "metadata": {
        "id": "qYwcMkNJvmTw"
      },
      "source": [
        "def get_subs(k, index):\n",
        "    subs = []\n",
        "    for i in range(m):\n",
        "        subs.append( (k[i], X_train[i][index-1] ) )\n",
        "    return subs"
      ],
      "execution_count": null,
      "outputs": []
    },
    {
      "cell_type": "code",
      "metadata": {
        "id": "77jJ2rJAvq4E"
      },
      "source": [
        "def get_thetas():\n",
        "    subs = []\n",
        "    for i in range(p_num + 1):\n",
        "        subs.append( (theta_symbols[i], vals[i]) )\n",
        "    return subs"
      ],
      "execution_count": null,
      "outputs": []
    },
    {
      "cell_type": "code",
      "metadata": {
        "id": "octtlAKGvvMQ"
      },
      "source": [
        "def get_x(index, t):\n",
        "    subs = []\n",
        "    if t == \"train\":\n",
        "        for i in range(1,p_num+1):\n",
        "            subs.append( (x_symbols[i], X_train[index][i-1] ))\n",
        "        subs.append( (y, float(y_train.iloc[index]) ) )\n",
        "    else:\n",
        "        for i in range(1,p_num+1):\n",
        "            subs.append( (x_symbols[i], X_test[index][i-1]) )\n",
        "        subs.append( (y, float(y_test.iloc[index]) ) )\n",
        "    return subs"
      ],
      "execution_count": null,
      "outputs": []
    },
    {
      "cell_type": "code",
      "metadata": {
        "id": "PxMBKiFjvzD0"
      },
      "source": [
        "def sum_of_loss():\n",
        "    sum = 0\n",
        "    for k in range(61):\n",
        "        sum += cost_function.subs(get_thetas() + get_x(k, \"test\"))\n",
        "    return sum"
      ],
      "execution_count": null,
      "outputs": []
    },
    {
      "cell_type": "code",
      "metadata": {
        "colab": {
          "base_uri": "https://localhost:8080/",
          "height": 38
        },
        "id": "ITMYeOuov3wz",
        "outputId": "6b163725-a175-4933-9eba-58eaef318cd8"
      },
      "source": [
        "helper_function = (h_function- y)\n",
        "helper_function"
      ],
      "execution_count": 48,
      "outputs": [
        {
          "output_type": "execute_result",
          "data": {
            "text/latex": "$\\displaystyle t_{0} + t_{1} x_{1} + t_{2} x_{2} + t_{3} x_{3} + t_{4} x_{4} + t_{5} x_{5} - y$",
            "text/plain": [
              "t0 + t1*x1 + t2*x2 + t3*x3 + t4*x4 + t5*x5 - y"
            ]
          },
          "metadata": {},
          "execution_count": 48
        }
      ]
    },
    {
      "cell_type": "code",
      "metadata": {
        "id": "xy_96MEF9gTV"
      },
      "source": [
        "losses = []\n",
        "for k in range(25):\n",
        "    helper_function_2 = helper_function.subs(get_thetas())\n",
        "    sum_loss = 0\n",
        "    k = []\n",
        "    for j in range(m):\n",
        "        symbol = Symbol(\"k\" + str(j))\n",
        "        sum_loss += helper_function_2.subs(get_x(j, \"train\")) * symbol\n",
        "        k.append(symbol)\n",
        "    temp = []\n",
        "    temp.append(sum_loss.subs(list(zip(k, [1] * m))))\n",
        "    for i in range(1,p_num+1):\n",
        "        print(\".....\")\n",
        "        sum_loss_2 = sum_loss.subs(get_subs(k, i))\n",
        "        temp.append(sum_loss_2)\n",
        "    for i in range(p_num+1):\n",
        "        vals[i] -= temp[i] / (m / learning_rate)\n",
        "    print(vals)\n",
        "    losses.append(sum_of_loss())"
      ],
      "execution_count": null,
      "outputs": []
    }
  ]
}